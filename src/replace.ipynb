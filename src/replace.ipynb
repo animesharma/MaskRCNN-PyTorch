{
 "cells": [
  {
   "cell_type": "code",
   "execution_count": null,
   "metadata": {},
   "outputs": [],
   "source": [
    "import json\n",
    "from utils.data_aug import *\n",
    "from utils.bbox_util import *\n",
    "import numpy as np \n",
    "import cv2\n",
    "import os\n",
    "import matplotlib.pyplot as plt\n",
    "img1=cv2.imread(\"C:/Users/WanyingMo/Desktop/images/000040.jpg\")[:,:,::-1]\n",
    "img2=cv2.imread(\"C:/Users/WanyingMo/Desktop/images/000041.jpg\")[:,:,::-1]\n",
    "with open(\"C:/Users/WanyingMo/Desktop/data/000041.json\") as f:\n",
    "    img_id, annotations = json.load(f)\n",
    "masks = annotations[\"masks\"]\n",
    "print(np.shape(img1))\n",
    "for mask in masks:\n",
    "    for i in range(np.shape(mask)[0]):\n",
    "        for j in range(np.shape(mask)[1]):\n",
    "            if mask[i][j] == 1:\n",
    "                img2[i][j] = img1[i][j]\n",
    "plt.figure(figsize = (7, 7))\n",
    "plt.imshow(img2) "
   ]
  }
 ],
 "metadata": {
  "kernelspec": {
   "display_name": "Python 3.8.2 ('env': venv)",
   "language": "python",
   "name": "python3"
  },
  "language_info": {
   "name": "python",
   "version": "3.8.2"
  },
  "orig_nbformat": 4,
  "vscode": {
   "interpreter": {
    "hash": "e948148f39041c34fd2bf570f60775ae0e2b2006122a5c8e718952e887181bee"
   }
  }
 },
 "nbformat": 4,
 "nbformat_minor": 2
}
