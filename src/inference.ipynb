{
 "cells": [
  {
   "cell_type": "code",
   "execution_count": null,
   "metadata": {},
   "outputs": [],
   "source": [
    "import torch\n",
    "from ochuman_dataset import OCHumanDataset\n",
    "from utils.misc import collate_fn"
   ]
  },
  {
   "cell_type": "code",
   "execution_count": null,
   "metadata": {},
   "outputs": [],
   "source": []
  },
  {
   "cell_type": "code",
   "execution_count": null,
   "metadata": {},
   "outputs": [],
   "source": []
  },
  {
   "cell_type": "code",
   "execution_count": null,
   "metadata": {},
   "outputs": [],
   "source": []
  },
  {
   "cell_type": "code",
   "execution_count": null,
   "metadata": {},
   "outputs": [],
   "source": [
    "file_ids = []\n",
    "        for _, _, file_names in os.walk(os.path.join(self._dataset_path, \"annotations\", \"train\")):\n",
    "            for file_name in file_names:\n",
    "                file_ids.append(file_name[:-5])"
   ]
  },
  {
   "cell_type": "code",
   "execution_count": null,
   "metadata": {},
   "outputs": [],
   "source": [
    "dataset_test = OCHumanDataset(\n",
    "                        root_dir=self._dataset_path,\n",
    "                        img_ids=file_ids,\n",
    "                        transforms=None\n",
    "                    )\n",
    "data_loader_test = torch.utils.data.DataLoader(\n",
    "            dataset_test, batch_size=6, shuffle=False, num_workers=4,\n",
    "            collate_fn = collate_fn\n",
    "            )"
   ]
  }
 ],
 "metadata": {
  "kernelspec": {
   "display_name": "Python 3.8.10 ('env': venv)",
   "language": "python",
   "name": "python3"
  },
  "language_info": {
   "codemirror_mode": {
    "name": "ipython",
    "version": 3
   },
   "file_extension": ".py",
   "mimetype": "text/x-python",
   "name": "python",
   "nbconvert_exporter": "python",
   "pygments_lexer": "ipython3",
   "version": "3.8.10"
  },
  "orig_nbformat": 4,
  "vscode": {
   "interpreter": {
    "hash": "64c7e1768efb3593c4f294fd3c994b39be98ef8466eca8848edda46ac4afaf21"
   }
  }
 },
 "nbformat": 4,
 "nbformat_minor": 2
}
