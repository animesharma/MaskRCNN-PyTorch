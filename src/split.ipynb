{
 "cells": [
  {
   "cell_type": "code",
   "execution_count": 8,
   "metadata": {},
   "outputs": [],
   "source": [
    "import os\n",
    "import shutil\n",
    "import json"
   ]
  },
  {
   "cell_type": "code",
   "execution_count": 10,
   "metadata": {},
   "outputs": [
    {
     "name": "stdout",
     "output_type": "stream",
     "text": [
      "3784 473 474\n"
     ]
    }
   ],
   "source": [
    "with open(\"../data/img_dict.json\") as f:\n",
    "    img_dict = json.load(f)\n",
    "train_ids = set([file_name[:-5] for file_name in img_dict[\"train\"]])\n",
    "val_ids = set([file_name[:-5] for file_name in img_dict[\"val\"]])\n",
    "test_ids = set([file_name[:-5] for file_name in img_dict[\"test\"]])\n",
    "\n",
    "print(len(train_ids), len(val_ids), len(test_ids))\n",
    "\n",
    "dest_dir = \"../dataset\"\n",
    "img_train_dir = os.path.join(dest_dir, \"images\", \"train\")\n",
    "img_val_dir = os.path.join(dest_dir, \"images\", \"val\")\n",
    "img_test_dir = os.path.join(dest_dir, \"images\", \"test\")\n",
    "annotations_train_dir = os.path.join(dest_dir, \"annotations\", \"train\")\n",
    "annotations_val_dir = os.path.join(dest_dir, \"annotations\", \"val\")\n",
    "annotations_test_dir = os.path.join(dest_dir, \"annotations\", \"test\")\n",
    "\n",
    "for dir_ in [img_train_dir, img_val_dir, img_test_dir, annotations_train_dir, annotations_val_dir, annotations_test_dir]:\n",
    "    os.makedirs(dir_)"
   ]
  },
  {
   "cell_type": "code",
   "execution_count": 11,
   "metadata": {},
   "outputs": [],
   "source": [
    "for root, _, files in os.walk(\"../data/images/\"):\n",
    "    for file_name in files:\n",
    "        file_id = file_name.split(\".\")[0]\n",
    "        if file_id in train_ids:\n",
    "            shutil.move(os.path.join(root, file_name), img_train_dir)\n",
    "        elif file_id in val_ids:\n",
    "            shutil.move(os.path.join(root, file_name), img_val_dir)\n",
    "        elif file_id in test_ids:\n",
    "            shutil.move(os.path.join(root, file_name), img_test_dir)"
   ]
  },
  {
   "cell_type": "code",
   "execution_count": 12,
   "metadata": {},
   "outputs": [],
   "source": [
    "for root, _, files in os.walk(\"../data/annotations/\"):\n",
    "    for file_name in files:\n",
    "        file_id = file_name.split(\".\")[0]\n",
    "        if file_id in train_ids:\n",
    "            shutil.move(os.path.join(root, file_name), annotations_train_dir)\n",
    "        elif file_id in val_ids:\n",
    "            shutil.move(os.path.join(root, file_name), annotations_val_dir)\n",
    "        elif file_id in test_ids:\n",
    "            shutil.move(os.path.join(root, file_name), annotations_test_dir)"
   ]
  }
 ],
 "metadata": {
  "kernelspec": {
   "display_name": "Python 3.8.10 ('env': venv)",
   "language": "python",
   "name": "python3"
  },
  "language_info": {
   "codemirror_mode": {
    "name": "ipython",
    "version": 3
   },
   "file_extension": ".py",
   "mimetype": "text/x-python",
   "name": "python",
   "nbconvert_exporter": "python",
   "pygments_lexer": "ipython3",
   "version": "3.8.10"
  },
  "orig_nbformat": 4,
  "vscode": {
   "interpreter": {
    "hash": "64c7e1768efb3593c4f294fd3c994b39be98ef8466eca8848edda46ac4afaf21"
   }
  }
 },
 "nbformat": 4,
 "nbformat_minor": 2
}
